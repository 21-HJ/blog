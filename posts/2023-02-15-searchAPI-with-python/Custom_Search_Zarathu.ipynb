{
 "cells": [
  {
   "attachments": {},
   "cell_type": "markdown",
   "metadata": {},
   "source": [
    "# Depedency"
   ]
  },
  {
   "cell_type": "code",
   "execution_count": 101,
   "metadata": {},
   "outputs": [
    {
     "name": "stdout",
     "output_type": "stream",
     "text": [
      "Requirement already satisfied: simplejson in c:\\users\\zarathu09\\anaconda3\\envs\\zarathu\\lib\\site-packages (3.18.3)\n"
     ]
    }
   ],
   "source": [
    "!pip install simplejson"
   ]
  },
  {
   "cell_type": "code",
   "execution_count": 2,
   "metadata": {},
   "outputs": [],
   "source": [
    "from datetime import datetime\n",
    "import os\n",
    "import sys\n",
    "import urllib.request\n",
    "import pandas as pd \n",
    "import json\n",
    "import re \n",
    "import requests\n",
    "import simplejson"
   ]
  },
  {
   "attachments": {},
   "cell_type": "markdown",
   "metadata": {},
   "source": [
    "# API Keys"
   ]
  },
  {
   "attachments": {},
   "cell_type": "markdown",
   "metadata": {},
   "source": [
    "## API KEY 발급받는 방법은 링크를 참조해주세요"
   ]
  },
  {
   "attachments": {},
   "cell_type": "markdown",
   "metadata": {},
   "source": [
    "- 네이버  <https://zerosecu.tistory.com/18>\n",
    "\n",
    "일 허용 한도 25000건\n",
    "\n",
    "- 카카오  <https://kadosholy.tistory.com/25>\n",
    "\n",
    "\n",
    "- 구글 <https://gomgomi.tistory.com/3>\n",
    "\n",
    "\n",
    "일일 검색어 제한 10,000개"
   ]
  },
  {
   "cell_type": "code",
   "execution_count": null,
   "metadata": {},
   "outputs": [],
   "source": [
    "# Naver_client_id = \n",
    "# Naver_client_secret = \n",
    "# Kakao_API_key= \n",
    "# Google_SEARCH_ENGINE_ID = \n",
    "# Google_API_KEY = "
   ]
  },
  {
   "attachments": {},
   "cell_type": "markdown",
   "metadata": {},
   "source": [
    "## 지식인, 블로그, 동영상, pdf 파일, book, 신문기사 제외 링크에 포함되어선 안될 도메인을 제거해줍니다!  \n",
    "\n",
    "추가하실 도메인을 넣어주세요"
   ]
  },
  {
   "cell_type": "code",
   "execution_count": 293,
   "metadata": {},
   "outputs": [],
   "source": [
    "Trash_Link = [\"tistory\", \"kin\", \"youtube\", \"blog\", \"book\", \"news\", \"dcinside\", \"fmkorea\", \"ruliweb\", \"theqoo\", \"clien\", \"mlbpark\", \"instiz\", \"todayhumor\"] "
   ]
  },
  {
   "attachments": {},
   "cell_type": "markdown",
   "metadata": {},
   "source": [
    "# GOOGLE API"
   ]
  },
  {
   "cell_type": "code",
   "execution_count": 294,
   "metadata": {},
   "outputs": [],
   "source": [
    "def Google_API(query, wanted_row):\n",
    "    query= query.replace(\"|\",\"OR\")\n",
    "    query += \"-filetype:pdf\"\n",
    "    start_pages=[]\n",
    "\n",
    "    df_google= pd.DataFrame(columns=['Title','Link','Description'])\n",
    "\n",
    "    row_count =0 \n",
    "\n",
    "\n",
    "    for i in range(1,wanted_row+1000,10):\n",
    "        start_pages.append(i)\n",
    "\n",
    "    for start_page in start_pages:\n",
    "        url = f\"https://www.googleapis.com/customsearch/v1?key={Google_API_KEY}&cx={Google_SEARCH_ENGINE_ID}&q={query}&start={start_page}\"\n",
    "        data = requests.get(url).json()\n",
    "        search_items = data.get(\"items\")\n",
    "        \n",
    "        try:\n",
    "            for i, search_item in enumerate(search_items, start=1):\n",
    "                # extract the page url\n",
    "                link = search_item.get(\"link\")\n",
    "                if any(trash in link for trash in Trash_Link):\n",
    "                    pass\n",
    "                else: \n",
    "                    # get the page title\n",
    "                    title = search_item.get(\"title\")\n",
    "                    # page snippet\n",
    "                    descripiton = search_item.get(\"snippet\")\n",
    "                    # print the results\n",
    "                    df_google.loc[start_page + i] = [title,link,descripiton] \n",
    "                    row_count+=1\n",
    "                    if (row_count >= wanted_row) or (row_count == 300) :\n",
    "                        return df_google\n",
    "        except:\n",
    "            return df_google\n",
    "\n",
    "    \n",
    "    return df_google\n",
    "\n"
   ]
  },
  {
   "attachments": {},
   "cell_type": "markdown",
   "metadata": {},
   "source": [
    "# NAVER API"
   ]
  },
  {
   "cell_type": "code",
   "execution_count": 295,
   "metadata": {},
   "outputs": [],
   "source": [
    "def Naver_API(query,wanted_row):\n",
    "    query = urllib.parse.quote(query)\n",
    "\n",
    "    display=100\n",
    "    start=1\n",
    "    end=wanted_row+10000\n",
    "    idx=0\n",
    "    sort='sim'\n",
    "\n",
    "    df= pd.DataFrame(columns=['Title','Link','Description'])\n",
    "    row_count= 0 \n",
    "    \n",
    "    for start_index in range(start,end,display):\n",
    "        url = \"https://openapi.naver.com/v1/search/webkr?query=\"+ query +\\\n",
    "            \"&display=\" + str(display)+ \\\n",
    "            \"&start=\" + str(start_index) + \\\n",
    "            \"&sort=\" + sort\n",
    "        request = urllib.request.Request(url)\n",
    "        request.add_header(\"X-Naver-Client-Id\",Naver_client_id)\n",
    "        request.add_header(\"X-Naver-Client-Secret\",Naver_client_secret)\n",
    "        try:\n",
    "            response = urllib.request.urlopen(request)\n",
    "            rescode = response.getcode()\n",
    "            if(rescode==200):\n",
    "                response_body = response.read()\n",
    "                items= json.loads(response_body.decode('utf-8'))['items']\n",
    "                remove_tag = re.compile('<.*?>')\n",
    "                for item_index in range(0,len(items)):\n",
    "                    link = items[item_index]['link']\n",
    "                    if any(trash in link for trash in Trash_Link):\n",
    "                        idx+=1\n",
    "                        pass\n",
    "                    else:\n",
    "                        title = re.sub(remove_tag, '', items[item_index]['title'])\n",
    "                        description = re.sub(remove_tag, '', items[item_index]['description'])\n",
    "                        df.loc[idx] =[title,link,description]\n",
    "                        idx+=1\n",
    "                        row_count+=1\n",
    "                        if (row_count >= wanted_row) or (row_count == 300):\n",
    "                            return df\n",
    "                        \n",
    "        except:\n",
    "            return df\n"
   ]
  },
  {
   "attachments": {},
   "cell_type": "markdown",
   "metadata": {},
   "source": [
    "# DAUM KAKAO API"
   ]
  },
  {
   "cell_type": "code",
   "execution_count": 296,
   "metadata": {},
   "outputs": [],
   "source": [
    "def Daum_API(query,wanted_row):\n",
    "    pages= wanted_row//10 \n",
    "\n",
    "    method = \"GET\"\n",
    "    url = \"https://dapi.kakao.com/v2/search/web\"\n",
    "    header = {'authorization': f'KakaoAK {Kakao_API_key}'}\n",
    "\n",
    "    df= pd.DataFrame(columns=['Title','Link','Description'])\n",
    "\n",
    "    row_count=0\n",
    "\n",
    "    for page in range(1,pages+10):\n",
    "        params = {'query' : query, 'page' : page}\n",
    "        request = requests.get( url, params= params, headers=header )\n",
    "        for i, item in enumerate(request.json()[\"documents\"], start=1):\n",
    "            link = item['url']\n",
    "            try:\n",
    "                written_year=int(item['datetime'][:4])\n",
    "            except:\n",
    "                written_year = 2023\n",
    "\n",
    "            if (any(trash in link for trash in Trash_Link) or (written_year <2020)):\n",
    "                pass\n",
    "            else:\n",
    "                title= item[\"title\"]\n",
    "                description = item[\"contents\"]\n",
    "                df.loc[10*page+i] =[title,link,description]\n",
    "                row_count+=1\n",
    "                if (row_count >= wanted_row) or (row_count == 300):\n",
    "                    remove_tag = re.compile('<.*?>')\n",
    "                    df['Title'] =df['Title'].apply(lambda x :re.sub(remove_tag, '',x))\n",
    "                    df['Description'] =df['Description'].apply(lambda x :re.sub(remove_tag, '',x))\n",
    "\n",
    "                    return df\n",
    "                \n",
    "\n",
    "    remove_tag = re.compile('<.*?>')\n",
    "    df['Title'] =df['Title'].apply(lambda x :re.sub(remove_tag, '',x))\n",
    "    df['Description'] =df['Description'].apply(lambda x :re.sub(remove_tag, '',x))\n",
    "    \n",
    "    return df \n"
   ]
  },
  {
   "attachments": {},
   "cell_type": "markdown",
   "metadata": {},
   "source": [
    "# 최종코드 "
   ]
  },
  {
   "cell_type": "code",
   "execution_count": 297,
   "metadata": {},
   "outputs": [
    {
     "data": {
      "text/plain": [
       "'20230210'"
      ]
     },
     "execution_count": 297,
     "metadata": {},
     "output_type": "execute_result"
    }
   ],
   "source": [
    "today = datetime.today().strftime(\"%Y%m%d\")\n",
    "today"
   ]
  },
  {
   "cell_type": "code",
   "execution_count": 298,
   "metadata": {},
   "outputs": [],
   "source": [
    "def final(query,wanted_row=100):\n",
    "    df_google = Google_API(query,wanted_row)\n",
    "    df_google['search_engine']='Google'\n",
    "    df_naver = Naver_API(query,wanted_row)\n",
    "    df_naver['search_engine']='Naver'\n",
    "    df_daum = Daum_API(query,wanted_row)\n",
    "    df_daum['search_engine']='Daum'\n",
    "    df_final= pd.concat([df_google,df_naver,df_daum])\n",
    "    df_final['search_date'] = today\n",
    "    df_final.reset_index(inplace=True,drop=True)\n",
    "    \n",
    "    return df_final"
   ]
  },
  {
   "cell_type": "code",
   "execution_count": 3,
   "metadata": {},
   "outputs": [],
   "source": [
    "############### 검색할 검색어를 query에, 검색엔진당 추출할 문서의 개수를 wanted_row 에 적어주세요####################\n",
    "\n",
    "query = \"뇌진탕 | 외상성 뇌손상 | 두부외상\"\n",
    "wanted_row = 100"
   ]
  },
  {
   "cell_type": "code",
   "execution_count": 300,
   "metadata": {},
   "outputs": [],
   "source": [
    "df = final(query=query, wanted_row=wanted_row)\n"
   ]
  },
  {
   "cell_type": "code",
   "execution_count": 306,
   "metadata": {},
   "outputs": [
    {
     "data": {
      "text/html": [
       "<div>\n",
       "<style scoped>\n",
       "    .dataframe tbody tr th:only-of-type {\n",
       "        vertical-align: middle;\n",
       "    }\n",
       "\n",
       "    .dataframe tbody tr th {\n",
       "        vertical-align: top;\n",
       "    }\n",
       "\n",
       "    .dataframe thead th {\n",
       "        text-align: right;\n",
       "    }\n",
       "</style>\n",
       "<table border=\"1\" class=\"dataframe\">\n",
       "  <thead>\n",
       "    <tr style=\"text-align: right;\">\n",
       "      <th></th>\n",
       "      <th>Title</th>\n",
       "      <th>Link</th>\n",
       "      <th>Description</th>\n",
       "      <th>search_engine</th>\n",
       "      <th>search_date</th>\n",
       "    </tr>\n",
       "  </thead>\n",
       "  <tbody>\n",
       "    <tr>\n",
       "      <th>0</th>\n",
       "      <td>외상에 의한 뇌 손상 | 질환백과 | 의료정보 | 건강정보 | 서울아산병원</td>\n",
       "      <td>https://www.amc.seoul.kr/asan/mobile/healthinf...</td>\n",
       "      <td>최근에는 광범위한 뇌진탕의 정의에 의식 소실이 없는 경우도 포함합니다. ... 교통...</td>\n",
       "      <td>Google</td>\n",
       "      <td>20230210</td>\n",
       "    </tr>\n",
       "    <tr>\n",
       "      <th>1</th>\n",
       "      <td>외상성 뇌 손상 | Disability Rights California</td>\n",
       "      <td>https://www.disabilityrightsca.org/ko/publicat...</td>\n",
       "      <td>팻비 프로그램 이 프로그램은 정보, 의뢰, 봉사 활동, 훈련, 자기 옹호 지원, 개...</td>\n",
       "      <td>Google</td>\n",
       "      <td>20230210</td>\n",
       "    </tr>\n",
       "    <tr>\n",
       "      <th>2</th>\n",
       "      <td>외상성 뇌 손상: Let's Help You - Washington 211</td>\n",
       "      <td>https://wa211.org/ko/%EC%99%B8%EC%83%81%EC%84%...</td>\n",
       "      <td>Washington 211은 워싱턴주 사회보건서비스부와 협력하여 외상성 뇌손상(TB...</td>\n",
       "      <td>Google</td>\n",
       "      <td>20230210</td>\n",
       "    </tr>\n",
       "    <tr>\n",
       "      <th>3</th>\n",
       "      <td>Traumatic Brain Injury / Concussion | Concussi...</td>\n",
       "      <td>https://www.cdc.gov/traumaticbraininjury/index...</td>\n",
       "      <td>A traumatic brain injury, or TBI, is an injury...</td>\n",
       "      <td>Google</td>\n",
       "      <td>20230210</td>\n",
       "    </tr>\n",
       "    <tr>\n",
       "      <th>4</th>\n",
       "      <td>외상성 뇌손상: 위원회 결정의 근거</td>\n",
       "      <td>https://www.fcps.edu/sites/default/files/media...</td>\n",
       "      <td>학생 이름. 학생 번호. 회의 날짜. 정의: 외상성 뇌손상이란 외부의 물리적 힘에 ...</td>\n",
       "      <td>Google</td>\n",
       "      <td>20230210</td>\n",
       "    </tr>\n",
       "    <tr>\n",
       "      <th>...</th>\n",
       "      <td>...</td>\n",
       "      <td>...</td>\n",
       "      <td>...</td>\n",
       "      <td>...</td>\n",
       "      <td>...</td>\n",
       "    </tr>\n",
       "    <tr>\n",
       "      <th>239</th>\n",
       "      <td>대한진단검사의학회</td>\n",
       "      <td>https://www.kslm.org/sub07/studying_total.html...</td>\n",
       "      <td>각각의 특징을 열거한다. 2621 (4) 기타 손상 뇌좌상을 정의하고, 각각의 특징...</td>\n",
       "      <td>Daum</td>\n",
       "      <td>20230210</td>\n",
       "    </tr>\n",
       "    <tr>\n",
       "      <th>240</th>\n",
       "      <td>두통, 오심을 주소로 하는 뇌진탕후증후군 (postconcussion syndrom...</td>\n",
       "      <td>https://www.jikm.or.kr/journal/scholar_xmls.ph...</td>\n",
       "      <td>부종을 일으킬 수 있다13. 뇌진탕(concussion) 혹은 경미한 두부 외상(M...</td>\n",
       "      <td>Daum</td>\n",
       "      <td>20230210</td>\n",
       "    </tr>\n",
       "    <tr>\n",
       "      <th>241</th>\n",
       "      <td>신경외과</td>\n",
       "      <td>http://gbh.or.kr/hosp/hosp03_03.html</td>\n",
       "      <td>뇌졸중, 뇌출혈, 뇌경색 등 뇌혈관 질환 뇌, 척추의 외상성 손상 간질, 뇌종양 척...</td>\n",
       "      <td>Daum</td>\n",
       "      <td>20230210</td>\n",
       "    </tr>\n",
       "    <tr>\n",
       "      <th>242</th>\n",
       "      <td>안내</td>\n",
       "      <td>https://kangnam.hallym.or.kr/hallymuniv_sub.as...</td>\n",
       "      <td>이름, 전문진료분야 이름 전문진료분야 이호국 교수상세보기 진료예약 진료예약 뇌졸중(...</td>\n",
       "      <td>Daum</td>\n",
       "      <td>20230210</td>\n",
       "    </tr>\n",
       "    <tr>\n",
       "      <th>243</th>\n",
       "      <td>의료진/진료시간표</td>\n",
       "      <td>https://yumc.ac.kr:8443/medical/timetable.do;j...</td>\n",
       "      <td>및 외상성 척추질환, 척수신경종양, 척추감염, 척추관련통증 교수 오전 인터넷예약 간...</td>\n",
       "      <td>Daum</td>\n",
       "      <td>20230210</td>\n",
       "    </tr>\n",
       "  </tbody>\n",
       "</table>\n",
       "<p>244 rows × 5 columns</p>\n",
       "</div>"
      ],
      "text/plain": [
       "                                                 Title  \\\n",
       "0            외상에 의한 뇌 손상 | 질환백과 | 의료정보 | 건강정보 | 서울아산병원   \n",
       "1              외상성 뇌 손상 | Disability Rights California   \n",
       "2            외상성 뇌 손상: Let's Help You - Washington 211   \n",
       "3    Traumatic Brain Injury / Concussion | Concussi...   \n",
       "4                                  외상성 뇌손상: 위원회 결정의 근거   \n",
       "..                                                 ...   \n",
       "239                                          대한진단검사의학회   \n",
       "240  두통, 오심을 주소로 하는 뇌진탕후증후군 (postconcussion syndrom...   \n",
       "241                                               신경외과   \n",
       "242                                                 안내   \n",
       "243                                          의료진/진료시간표   \n",
       "\n",
       "                                                  Link  \\\n",
       "0    https://www.amc.seoul.kr/asan/mobile/healthinf...   \n",
       "1    https://www.disabilityrightsca.org/ko/publicat...   \n",
       "2    https://wa211.org/ko/%EC%99%B8%EC%83%81%EC%84%...   \n",
       "3    https://www.cdc.gov/traumaticbraininjury/index...   \n",
       "4    https://www.fcps.edu/sites/default/files/media...   \n",
       "..                                                 ...   \n",
       "239  https://www.kslm.org/sub07/studying_total.html...   \n",
       "240  https://www.jikm.or.kr/journal/scholar_xmls.ph...   \n",
       "241               http://gbh.or.kr/hosp/hosp03_03.html   \n",
       "242  https://kangnam.hallym.or.kr/hallymuniv_sub.as...   \n",
       "243  https://yumc.ac.kr:8443/medical/timetable.do;j...   \n",
       "\n",
       "                                           Description search_engine  \\\n",
       "0    최근에는 광범위한 뇌진탕의 정의에 의식 소실이 없는 경우도 포함합니다. ... 교통...        Google   \n",
       "1    팻비 프로그램 이 프로그램은 정보, 의뢰, 봉사 활동, 훈련, 자기 옹호 지원, 개...        Google   \n",
       "2    Washington 211은 워싱턴주 사회보건서비스부와 협력하여 외상성 뇌손상(TB...        Google   \n",
       "3    A traumatic brain injury, or TBI, is an injury...        Google   \n",
       "4    학생 이름. 학생 번호. 회의 날짜. 정의: 외상성 뇌손상이란 외부의 물리적 힘에 ...        Google   \n",
       "..                                                 ...           ...   \n",
       "239  각각의 특징을 열거한다. 2621 (4) 기타 손상 뇌좌상을 정의하고, 각각의 특징...          Daum   \n",
       "240  부종을 일으킬 수 있다13. 뇌진탕(concussion) 혹은 경미한 두부 외상(M...          Daum   \n",
       "241  뇌졸중, 뇌출혈, 뇌경색 등 뇌혈관 질환 뇌, 척추의 외상성 손상 간질, 뇌종양 척...          Daum   \n",
       "242  이름, 전문진료분야 이름 전문진료분야 이호국 교수상세보기 진료예약 진료예약 뇌졸중(...          Daum   \n",
       "243  및 외상성 척추질환, 척수신경종양, 척추감염, 척추관련통증 교수 오전 인터넷예약 간...          Daum   \n",
       "\n",
       "    search_date  \n",
       "0      20230210  \n",
       "1      20230210  \n",
       "2      20230210  \n",
       "3      20230210  \n",
       "4      20230210  \n",
       "..          ...  \n",
       "239    20230210  \n",
       "240    20230210  \n",
       "241    20230210  \n",
       "242    20230210  \n",
       "243    20230210  \n",
       "\n",
       "[244 rows x 5 columns]"
      ]
     },
     "execution_count": 306,
     "metadata": {},
     "output_type": "execute_result"
    }
   ],
   "source": [
    "df"
   ]
  },
  {
   "cell_type": "code",
   "execution_count": 307,
   "metadata": {},
   "outputs": [
    {
     "data": {
      "text/plain": [
       "Naver     99\n",
       "Daum      79\n",
       "Google    66\n",
       "Name: search_engine, dtype: int64"
      ]
     },
     "execution_count": 307,
     "metadata": {},
     "output_type": "execute_result"
    }
   ],
   "source": [
    "df['search_engine'].value_counts()"
   ]
  },
  {
   "cell_type": "code",
   "execution_count": 4,
   "metadata": {},
   "outputs": [
    {
     "data": {
      "text/plain": [
       "'뇌진탕  외상성 뇌손상  두부외상'"
      ]
     },
     "execution_count": 4,
     "metadata": {},
     "output_type": "execute_result"
    }
   ],
   "source": [
    "#저장할때 파일명에는 특수문자 제거 \n",
    "query_filename =  re.sub(r\"[^\\uAC00-\\uD7A30-9a-zA-Z\\s]\", \"\", query)\n",
    "df.to_csv(f'{query_filename}_{today}.csv',index=False)"
   ]
  }
 ],
 "metadata": {
  "kernelspec": {
   "display_name": "zarathu",
   "language": "python",
   "name": "python3"
  },
  "language_info": {
   "codemirror_mode": {
    "name": "ipython",
    "version": 3
   },
   "file_extension": ".py",
   "mimetype": "text/x-python",
   "name": "python",
   "nbconvert_exporter": "python",
   "pygments_lexer": "ipython3",
   "version": "3.7.15"
  },
  "orig_nbformat": 4,
  "vscode": {
   "interpreter": {
    "hash": "3471436fa16f53dbda9702ced335ef059e57652bf59f2fd0593cc7d357478d42"
   }
  }
 },
 "nbformat": 4,
 "nbformat_minor": 2
}
